{
 "cells": [
  {
   "cell_type": "code",
   "execution_count": 8,
   "metadata": {},
   "outputs": [],
   "source": [
    "API_KEY = 'sk-BwmSb3q5qK97zIJYW2rYpFXTn-8ua1kiuJy1wEKf0YT3BlbkFJCD7_y0woQTDGh2lauJaCQW5-WgeC1xiqcIiaUK3YAA'\n",
    "URL = 'https://sites.google.com/site/maxfriedrichsteinhardt/home/research'"
   ]
  },
  {
   "cell_type": "code",
   "execution_count": 11,
   "metadata": {},
   "outputs": [],
   "source": [
    "from bs4 import BeautifulSoup\n",
    "from openai import OpenAI\n",
    "import requests\n",
    "from db_config import db_config\n",
    "\n",
    "\n",
    "\n",
    "def extract_relevant_html(html_content):\n",
    "    \"\"\"\n",
    "    Use BeautifulSoup to extract the relevant parts of the HTML that contain the publications.\n",
    "    \"\"\"\n",
    "    soup = BeautifulSoup(html_content, 'html.parser')\n",
    "\n",
    "    # Remove scripts and styles\n",
    "    for element in soup(['script', 'style', 'header', 'footer', 'nav', 'aside']):\n",
    "        element.decompose()\n",
    "\n",
    "    # Attempt to find the main content area\n",
    "    main_content = soup.body\n",
    "        \n",
    "    # Extract the text content\n",
    "    text_content = main_content.get_text(separator='\\n', strip=True)\n",
    "    return text_content\n",
    "\n",
    "def extract_publications(response_text):\n",
    "    prompt = f\"\"\"\n",
    "    You are an AI assistant that extracts academic publication details from HTML content.\n",
    "\n",
    "    Extract all the publications from the following HTML content from {URL}. For each publication, provide:\n",
    "    - Title\n",
    "    - Authors\n",
    "    - Year\n",
    "    - Journal (e.g., journal or conference name)\n",
    "\n",
    "    Provide the output as a JSON array of objects with the keys: \"title\", \"authors\", \"year\", \"venue\".\n",
    "    HTML Content:\n",
    "    {response_text}\n",
    "    \"\"\"\n",
    "\n",
    "\n",
    "    client = OpenAI(\n",
    "        # This is the default and can be omitted\n",
    "        api_key= db_config['openai_api_key']\n",
    "    )\n",
    "\n",
    "\n",
    "    chat_completion = client.chat.completions.create(\n",
    "        messages=[\n",
    "            {\n",
    "                \"role\": \"user\",\n",
    "                \"content\": prompt\n",
    "            }\n",
    "        ],\n",
    "        model=\"gpt-3.5-turbo\",\n",
    "    )\n",
    "    \n",
    "    response = chat_completion.choices[0].message.content\n",
    "\n",
    "    # Attempt to parse the response as JSON\n",
    "    try:\n",
    "        publications = json.loads(response)\n",
    "    except json.JSONDecodeError:\n",
    "        print(\"Failed to parse JSON. Attempting to fix the response...\")\n",
    "        # Try to extract JSON content from the response using regex\n",
    "        import re\n",
    "        json_text_match = re.search(r'\\[.*\\]', response, re.DOTALL)\n",
    "        if json_text_match:\n",
    "            json_text = json_text_match.group(0)\n",
    "            try:\n",
    "                publications = json.loads(json_text)\n",
    "            except json.JSONDecodeError:\n",
    "                print(\"Failed to parse the extracted JSON text.\")\n",
    "                return None\n",
    "        else:\n",
    "            print(\"No JSON array found in the response.\")\n",
    "            return None\n",
    "        \n",
    "    return response\n",
    "\n",
    "import json\n",
    "\n",
    "html_content = requests.get(URL).text\n",
    "text_content = extract_relevant_html(html_content)\n",
    "publications = extract_publications(text_content)"
   ]
  },
  {
   "cell_type": "code",
   "execution_count": null,
   "metadata": {},
   "outputs": [],
   "source": [
    "import json\n",
    "\n",
    "html_content = requests.get(URL).text\n",
    "text_content = extract_relevant_html(html_content)\n",
    "publications = extract_publications(text_content)"
   ]
  },
  {
   "cell_type": "code",
   "execution_count": 15,
   "metadata": {},
   "outputs": [
    {
     "ename": "JSONDecodeError",
     "evalue": "Expecting value: line 1 column 1 (char 0)",
     "output_type": "error",
     "traceback": [
      "\u001b[1;31m---------------------------------------------------------------------------\u001b[0m",
      "\u001b[1;31mJSONDecodeError\u001b[0m                           Traceback (most recent call last)",
      "Cell \u001b[1;32mIn[15], line 1\u001b[0m\n\u001b[1;32m----> 1\u001b[0m papers \u001b[38;5;241m=\u001b[39m \u001b[43mjson\u001b[49m\u001b[38;5;241;43m.\u001b[39;49m\u001b[43mloads\u001b[49m\u001b[43m(\u001b[49m\u001b[43mpublications\u001b[49m\u001b[43m)\u001b[49m\n",
      "File \u001b[1;32mc:\\Users\\ytchokni\\AppData\\Local\\miniconda3\\envs\\SANDBOX\\Lib\\json\\__init__.py:346\u001b[0m, in \u001b[0;36mloads\u001b[1;34m(s, cls, object_hook, parse_float, parse_int, parse_constant, object_pairs_hook, **kw)\u001b[0m\n\u001b[0;32m    341\u001b[0m     s \u001b[38;5;241m=\u001b[39m s\u001b[38;5;241m.\u001b[39mdecode(detect_encoding(s), \u001b[38;5;124m'\u001b[39m\u001b[38;5;124msurrogatepass\u001b[39m\u001b[38;5;124m'\u001b[39m)\n\u001b[0;32m    343\u001b[0m \u001b[38;5;28;01mif\u001b[39;00m (\u001b[38;5;28mcls\u001b[39m \u001b[38;5;129;01mis\u001b[39;00m \u001b[38;5;28;01mNone\u001b[39;00m \u001b[38;5;129;01mand\u001b[39;00m object_hook \u001b[38;5;129;01mis\u001b[39;00m \u001b[38;5;28;01mNone\u001b[39;00m \u001b[38;5;129;01mand\u001b[39;00m\n\u001b[0;32m    344\u001b[0m         parse_int \u001b[38;5;129;01mis\u001b[39;00m \u001b[38;5;28;01mNone\u001b[39;00m \u001b[38;5;129;01mand\u001b[39;00m parse_float \u001b[38;5;129;01mis\u001b[39;00m \u001b[38;5;28;01mNone\u001b[39;00m \u001b[38;5;129;01mand\u001b[39;00m\n\u001b[0;32m    345\u001b[0m         parse_constant \u001b[38;5;129;01mis\u001b[39;00m \u001b[38;5;28;01mNone\u001b[39;00m \u001b[38;5;129;01mand\u001b[39;00m object_pairs_hook \u001b[38;5;129;01mis\u001b[39;00m \u001b[38;5;28;01mNone\u001b[39;00m \u001b[38;5;129;01mand\u001b[39;00m \u001b[38;5;129;01mnot\u001b[39;00m kw):\n\u001b[1;32m--> 346\u001b[0m     \u001b[38;5;28;01mreturn\u001b[39;00m \u001b[43m_default_decoder\u001b[49m\u001b[38;5;241;43m.\u001b[39;49m\u001b[43mdecode\u001b[49m\u001b[43m(\u001b[49m\u001b[43ms\u001b[49m\u001b[43m)\u001b[49m\n\u001b[0;32m    347\u001b[0m \u001b[38;5;28;01mif\u001b[39;00m \u001b[38;5;28mcls\u001b[39m \u001b[38;5;129;01mis\u001b[39;00m \u001b[38;5;28;01mNone\u001b[39;00m:\n\u001b[0;32m    348\u001b[0m     \u001b[38;5;28mcls\u001b[39m \u001b[38;5;241m=\u001b[39m JSONDecoder\n",
      "File \u001b[1;32mc:\\Users\\ytchokni\\AppData\\Local\\miniconda3\\envs\\SANDBOX\\Lib\\json\\decoder.py:337\u001b[0m, in \u001b[0;36mJSONDecoder.decode\u001b[1;34m(self, s, _w)\u001b[0m\n\u001b[0;32m    332\u001b[0m \u001b[38;5;28;01mdef\u001b[39;00m \u001b[38;5;21mdecode\u001b[39m(\u001b[38;5;28mself\u001b[39m, s, _w\u001b[38;5;241m=\u001b[39mWHITESPACE\u001b[38;5;241m.\u001b[39mmatch):\n\u001b[0;32m    333\u001b[0m \u001b[38;5;250m    \u001b[39m\u001b[38;5;124;03m\"\"\"Return the Python representation of ``s`` (a ``str`` instance\u001b[39;00m\n\u001b[0;32m    334\u001b[0m \u001b[38;5;124;03m    containing a JSON document).\u001b[39;00m\n\u001b[0;32m    335\u001b[0m \n\u001b[0;32m    336\u001b[0m \u001b[38;5;124;03m    \"\"\"\u001b[39;00m\n\u001b[1;32m--> 337\u001b[0m     obj, end \u001b[38;5;241m=\u001b[39m \u001b[38;5;28;43mself\u001b[39;49m\u001b[38;5;241;43m.\u001b[39;49m\u001b[43mraw_decode\u001b[49m\u001b[43m(\u001b[49m\u001b[43ms\u001b[49m\u001b[43m,\u001b[49m\u001b[43m \u001b[49m\u001b[43midx\u001b[49m\u001b[38;5;241;43m=\u001b[39;49m\u001b[43m_w\u001b[49m\u001b[43m(\u001b[49m\u001b[43ms\u001b[49m\u001b[43m,\u001b[49m\u001b[43m \u001b[49m\u001b[38;5;241;43m0\u001b[39;49m\u001b[43m)\u001b[49m\u001b[38;5;241;43m.\u001b[39;49m\u001b[43mend\u001b[49m\u001b[43m(\u001b[49m\u001b[43m)\u001b[49m\u001b[43m)\u001b[49m\n\u001b[0;32m    338\u001b[0m     end \u001b[38;5;241m=\u001b[39m _w(s, end)\u001b[38;5;241m.\u001b[39mend()\n\u001b[0;32m    339\u001b[0m     \u001b[38;5;28;01mif\u001b[39;00m end \u001b[38;5;241m!=\u001b[39m \u001b[38;5;28mlen\u001b[39m(s):\n",
      "File \u001b[1;32mc:\\Users\\ytchokni\\AppData\\Local\\miniconda3\\envs\\SANDBOX\\Lib\\json\\decoder.py:355\u001b[0m, in \u001b[0;36mJSONDecoder.raw_decode\u001b[1;34m(self, s, idx)\u001b[0m\n\u001b[0;32m    353\u001b[0m     obj, end \u001b[38;5;241m=\u001b[39m \u001b[38;5;28mself\u001b[39m\u001b[38;5;241m.\u001b[39mscan_once(s, idx)\n\u001b[0;32m    354\u001b[0m \u001b[38;5;28;01mexcept\u001b[39;00m \u001b[38;5;167;01mStopIteration\u001b[39;00m \u001b[38;5;28;01mas\u001b[39;00m err:\n\u001b[1;32m--> 355\u001b[0m     \u001b[38;5;28;01mraise\u001b[39;00m JSONDecodeError(\u001b[38;5;124m\"\u001b[39m\u001b[38;5;124mExpecting value\u001b[39m\u001b[38;5;124m\"\u001b[39m, s, err\u001b[38;5;241m.\u001b[39mvalue) \u001b[38;5;28;01mfrom\u001b[39;00m \u001b[38;5;28;01mNone\u001b[39;00m\n\u001b[0;32m    356\u001b[0m \u001b[38;5;28;01mreturn\u001b[39;00m obj, end\n",
      "\u001b[1;31mJSONDecodeError\u001b[0m: Expecting value: line 1 column 1 (char 0)"
     ]
    }
   ],
   "source": [
    "papers = json.loads(publications)\n"
   ]
  },
  {
   "cell_type": "code",
   "execution_count": 14,
   "metadata": {},
   "outputs": [],
   "source": [
    "# Save publications as JSON\n",
    "with open('publications.json', 'w', encoding='utf-8') as f:\n",
    "    json.dump(publications, f, ensure_ascii=False, indent=4)"
   ]
  },
  {
   "cell_type": "code",
   "execution_count": 13,
   "metadata": {},
   "outputs": [
    {
     "data": {
      "text/plain": [
       "'```json\\n[\\n    {\\n        \"title\": \"The long run impact of childhood interracial contact on residential segregation\",\\n        \"authors\": [\"Merlino, L.\", \"Steinhardt, M.\", \"Wren-Lewis. L.\"],\\n        \"year\": \"2014\",\\n        \"venue\": \"Journal of Public Economics\"\\n    },\\n    {\\n        \"title\": \"Women in Political Power and School Closure during COVID Times\",\\n        \"authors\": [\"Danzer, N.\", \"Garcia-Torres, S.\", \"Steinhardt, M.\", \"Stella, L.\"],\\n        \"year\": \"2014\",\\n        \"venue\": \"Economic Policy\"\\n    },\\n    {\\n        \"title\": \"Opening Heaven\\'s Door: Public Opinion and Congressional Votes on the 1965 Immigration Act\",\\n        \"authors\": [\"Facchini, G.\", \"Hatton, T\", \"Steinhardt, M.\"],\\n        \"year\": \"2014\",\\n        \"venue\": \"Journal of Economic History\"\\n    },\\n    {\\n        \"title\": \"Immigration and New Firm Formation – Evidence from a Quasi-experimental Setting in Germany\",\\n        \"authors\": [\"Jahn, V.\", \"Steinhardt, M.\"],\\n        \"year\": \"2023\",\\n        \"venue\": \"International Migration Review\"\\n    },\\n    {\\n        \"title\": \"The Political Economy of Trade and Migration: Evidence from the U.S. Congress\",\\n        \"authors\": [\"Conconi, P.\", \"Facchini, G\", \"Steinhardt, Zanardi, M.\"],\\n        \"year\": \"2020\",\\n        \"venue\": \"Economics & Politics\"\\n    },\\n    {\\n        \"title\": \"More than just friends? School peers and adult interracial relationships\",\\n        \"authors\": [\"Merlino, L.\", \"Steinhardt, M.\", \"Wren-Lewis, L.\"],\\n        \"year\": \"2019\",\\n        \"venue\": \"Journal of Labor Economics\"\\n    },\\n    {\\n        \"title\": \"Bitterness in life and attitudes towards immigration\",\\n        \"authors\": [\"Poutvaara, P.\", \"Steinhardt, M.\"],\\n        \"year\": \"2018\",\\n        \"venue\": \"European Journal of Political Economy\"\\n    },\\n    {\\n        \"title\": \"Climate Change, Natural Disasters and Migration - A Survey of the Empirical Evidence\",\\n        \"authors\": [\"Berlemann, M.\", \"Steinhardt, M.\"],\\n        \"year\": \"2017\",\\n        \"venue\": \"CESifo Economic Studies\"\\n    },\\n    {\\n        \"title\": \"Who leaves and when? Selective outmigration of immigrants from Germany\",\\n        \"authors\": [\"Kuhlenkasper, T.\", \"Steinhardt, M.\"],\\n        \"year\": \"2017\",\\n        \"venue\": \"Economic Systems\"\\n    },\\n    {\\n        \"title\": \"Innovation and Immigration - Insights from a Placement Policy\",\\n        \"authors\": [\"Jahn, V.\", \"Steinhardt, M.\"],\\n        \"year\": \"2016\",\\n        \"venue\": \"Economics Letters\"\\n    },\\n    {\\n        \"title\": \"Immigrant-Native Differences in Stockholding – The Role of Cognitive and Non-Cognitive Skills\",\\n        \"authors\": [\"Luik, M.\", \"Steinhardt, M.\"],\\n        \"year\": \"2016\",\\n        \"venue\": \"Journal of Empirical Finance\"\\n    },\\n    {\\n        \"title\": \"Pane e Cioccolata: The Impact of Native Attitudes on Return Migration\",\\n        \"authors\": [\"De Coulon, A.\", \"Radu, D.\", \"Steinhardt, M.\"],\\n        \"year\": \"2016\",\\n        \"venue\": \"Review of International Economics\"\\n    },\\n    {\\n        \"title\": \"Migration, Friendship Ties and Cultural Assimilation\",\\n        \"authors\": [\"Facchini, G.\", \"Patacchini, E.\", \"Steinhardt, M.\"],\\n        \"year\": \"2015\",\\n        \"venue\": \"Scandinavian Journal of Economics\"\\n    },\\n    {\\n        \"title\": \"Testing the Tunnel Effect: Comparison, Age and Happiness in UK and German Panels\",\\n        \"authors\": [\"FitzRoy, F.\", \"Nolan, M\", \"Steinhardt, M.\", \"Ulph, D.\"],\\n        \"year\": \"2014\",\\n        \"venue\": \"IZA Journal of European Labor Studies\"\\n    },\\n    {\\n        \"title\": \"Immigration and election outcomes - Evidence from city districts in Hamburg\",\\n        \"authors\": [\"Otto, A.\", \"Steinhardt, M.\"],\\n        \"year\": \"2014\",\\n        \"venue\": \"Regional Science and Urban Economics\"\\n    },\\n    {\\n        \"title\": \"Does citizenship matter? The economic impact of naturalizations in Germany\",\\n        \"authors\": [\"Steinhardt, M.\"],\\n        \"year\": \"2012\",\\n        \"venue\": \"Labour Economics\"\\n    },\\n    {\\n        \"title\": \"The Labor Market Performance of Naturalized Immigrants in Switzerland - New Findings from the Swiss Labor Force Survey\",\\n        \"authors\": [\"Steinhardt, M.\", \"Wedemeier, J.\"],\\n        \"year\": \"2012\",\\n        \"venue\": \"Journal of International Migration and Integration\"\\n    },\\n    {\\n        \"title\": \"The Wage Impact of Immigration in Germany – New Evidence for Skill Groups and Occupations\",\\n        \"authors\": [\"Steinhardt, M.\"],\\n        \"year\": \"2011\",\\n        \"venue\": \"The B.E. Journal of Economic Analysis & Policy\"\\n    },\\n    {\\n        \"title\": \"What drives U.S. immigration policy? Evidence from congressional roll call votes\",\\n        \"authors\": [\"Facchini, G.\", \"Steinhardt, M.\"],\\n        \"year\": \"2011\",\\n        \"venue\": \"Journal of Public Economics\"\\n    },\\n    {\\n        \"title\": \"Die ökonomischen Potentiale kultureller Vielfalt: Eine Standortbestimmung deutscher Großstädte\",\\n        \"authors\": [\"Damelang, A.\", \"Steinhardt, M.\", \"Stiller, S.\"],\\n        \"year\": \"2010\",\\n        \"venue\": \"Sozialer Fortschritt\"\\n    }\\n]\\n```'"
      ]
     },
     "execution_count": 13,
     "metadata": {},
     "output_type": "execute_result"
    }
   ],
   "source": []
  },
  {
   "cell_type": "code",
   "execution_count": null,
   "metadata": {},
   "outputs": [],
   "source": []
  }
 ],
 "metadata": {
  "kernelspec": {
   "display_name": ".venv",
   "language": "python",
   "name": "python3"
  },
  "language_info": {
   "codemirror_mode": {
    "name": "ipython",
    "version": 3
   },
   "file_extension": ".py",
   "mimetype": "text/x-python",
   "name": "python",
   "nbconvert_exporter": "python",
   "pygments_lexer": "ipython3",
   "version": "3.12.5"
  }
 },
 "nbformat": 4,
 "nbformat_minor": 2
}
